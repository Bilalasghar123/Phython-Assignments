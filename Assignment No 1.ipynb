{
 "cells": [
  {
   "cell_type": "code",
   "execution_count": 1,
   "id": "7286b52e",
   "metadata": {},
   "outputs": [
    {
     "name": "stdout",
     "output_type": "stream",
     "text": [
      "Twinkle, twinkle, little star,\n",
      "         How i wonder what you are!\n",
      "                Up above the world so high,\n",
      "                Like a diamond in the sky.\n",
      " Twinkle, twinkle, little star,\n",
      "         How i wonder what you are!\n",
      "\n"
     ]
    }
   ],
   "source": [
    "# 1. Write a python program to print the following string in a specific format.\n",
    "a = '''Twinkle, twinkle, little star,\n",
    "         How i wonder what you are!\n",
    "'''\n",
    "b ='''               Up above the world so high,\n",
    "                Like a diamond in the sky.\n",
    "'''\n",
    "print(a,b,a)"
   ]
  },
  {
   "cell_type": "code",
   "execution_count": 2,
   "id": "d0a4d44a",
   "metadata": {},
   "outputs": [
    {
     "name": "stdout",
     "output_type": "stream",
     "text": [
      "3.8.8\n"
     ]
    }
   ],
   "source": [
    "# 2. Write a python program to get the python version you are using\n",
    "from platform import python_version\n",
    "print(python_version())"
   ]
  },
  {
   "cell_type": "code",
   "execution_count": 3,
   "id": "680d0963",
   "metadata": {},
   "outputs": [
    {
     "name": "stdout",
     "output_type": "stream",
     "text": [
      "Current date and time: \n",
      "2021-12-31 09:41:12.859040\n"
     ]
    }
   ],
   "source": [
    "# 3. Write a Python program to display the current date and time.\n",
    "import datetime\n",
    "now = datetime.datetime.now()\n",
    "print(\"Current date and time: \")\n",
    "print(str(now))"
   ]
  },
  {
   "cell_type": "code",
   "execution_count": 4,
   "id": "c5716dad",
   "metadata": {},
   "outputs": [
    {
     "name": "stdout",
     "output_type": "stream",
     "text": [
      "Input the radius of the circle:36\n",
      "The area of the circle with radius36is:4071.5040790523717\n"
     ]
    }
   ],
   "source": [
    "# 4. Write a Python program which accept the radius of a circle from the user and\n",
    "# compute the area\n",
    "from math import pi\n",
    "r = int(input(\"Input the radius of the circle:\"))\n",
    "print(\"The area of the circle with radius\" +str(r) + \"is:\"+ str(pi*r**2))"
   ]
  },
  {
   "cell_type": "code",
   "execution_count": 5,
   "id": "09037474",
   "metadata": {},
   "outputs": [
    {
     "name": "stdout",
     "output_type": "stream",
     "text": [
      "Enter your First Name: Bilal\n",
      "Enter your Last Name: Asghar\n",
      "laliB rahgsA\n"
     ]
    }
   ],
   "source": [
    "# 5. Write a Python program which accepts the user's first and last name and print them in\n",
    "# reverse order with a space between them. \n",
    "first_name = input(\"Enter your First Name: \")\n",
    "last_name = input(\"Enter your Last Name: \")\n",
    "print(f\"{first_name[::-1].strip()} {last_name[::-1].strip()}\")"
   ]
  },
  {
   "cell_type": "code",
   "execution_count": 6,
   "id": "98401938",
   "metadata": {},
   "outputs": [
    {
     "name": "stdout",
     "output_type": "stream",
     "text": [
      "enter first value: 65\n",
      "enter second value: 8\n",
      "sum: 520\n"
     ]
    }
   ],
   "source": [
    "# 6. Write a python program which takes two inputs from user and print them addition\n",
    "a = int(input(\"enter first value: \"))\n",
    "b = int(input(\"enter second value: \"))\n",
    "sum = a * b;\n",
    "print(\"sum:\", sum)"
   ]
  },
  {
   "cell_type": "code",
   "execution_count": null,
   "id": "264b6bc5",
   "metadata": {},
   "outputs": [],
   "source": []
  }
 ],
 "metadata": {
  "kernelspec": {
   "display_name": "Python 3",
   "language": "python",
   "name": "python3"
  },
  "language_info": {
   "codemirror_mode": {
    "name": "ipython",
    "version": 3
   },
   "file_extension": ".py",
   "mimetype": "text/x-python",
   "name": "python",
   "nbconvert_exporter": "python",
   "pygments_lexer": "ipython3",
   "version": "3.8.8"
  }
 },
 "nbformat": 4,
 "nbformat_minor": 5
}
